{
 "cells": [
  {
   "cell_type": "code",
   "execution_count": 30,
   "metadata": {},
   "outputs": [],
   "source": [
    "from timeit import timeit\n",
    "from collections import Counter"
   ]
  },
  {
   "cell_type": "code",
   "execution_count": 31,
   "metadata": {},
   "outputs": [],
   "source": [
    "def getCount(inputStr):\n",
    "    cntr = Counter(inputStr)\n",
    "    \n",
    "    return sum(cntr[i] for i in 'aeiou')"
   ]
  },
  {
   "cell_type": "code",
   "execution_count": 32,
   "metadata": {},
   "outputs": [],
   "source": [
    "def getCount2(inputStr):\n",
    "    return sum(c in 'aeiou' for c in inputStr) # sum of booleans"
   ]
  },
  {
   "cell_type": "code",
   "execution_count": 38,
   "metadata": {},
   "outputs": [],
   "source": [
    "# define a decorator for timing purposes\n",
    "def wrapper(func, *args, **kwargs):\n",
    "    def wrapped():\n",
    "        return func(*args, **kwargs)\n",
    "    return wrapped"
   ]
  },
  {
   "cell_type": "code",
   "execution_count": 42,
   "metadata": {},
   "outputs": [
    {
     "name": "stdout",
     "output_type": "stream",
     "text": [
      "0.09158821610617451\n",
      "0.07901677507186378\n"
     ]
    }
   ],
   "source": [
    "sentence = 'a good little lamb went on a journey through the dark scarry magical forrest fountain of doom.'\n",
    "\n",
    "# create wrapped instances of the functions\n",
    "wrapped_getCount = wrapper(getCount,sentence)\n",
    "wrapped_getCount2 = wrapper(getCount2,sentence)\n",
    "\n",
    "print(timeit(wrapped_getCount,number=10000))\n",
    "print(timeit(wrapped_getCount2,number=10000))"
   ]
  }
 ],
 "metadata": {
  "kernelspec": {
   "display_name": "Python [conda env:anaconda3]",
   "language": "python",
   "name": "conda-env-anaconda3-py"
  },
  "language_info": {
   "codemirror_mode": {
    "name": "ipython",
    "version": 3
   },
   "file_extension": ".py",
   "mimetype": "text/x-python",
   "name": "python",
   "nbconvert_exporter": "python",
   "pygments_lexer": "ipython3",
   "version": "3.6.5"
  }
 },
 "nbformat": 4,
 "nbformat_minor": 2
}
