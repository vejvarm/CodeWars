{
 "cells": [
  {
   "cell_type": "code",
   "execution_count": 38,
   "metadata": {},
   "outputs": [],
   "source": [
    "# Efficient fibonacci generator\n",
    "# inspired by Sam Gammon: https://gist.github.com/sgammon/4185115\n",
    "def genFib(last_fib=0, current_fib=1, limit=10000):\n",
    "    \n",
    "    if limit and (current_fib >= limit):\n",
    "        raise StopIteration()\n",
    "    \n",
    "    yield last_fib + current_fib\n",
    "    for next in genFib(current_fib,last_fib+current_fib,limit):\n",
    "        yield next"
   ]
  },
  {
   "cell_type": "code",
   "execution_count": 41,
   "metadata": {},
   "outputs": [
    {
     "name": "stdout",
     "output_type": "stream",
     "text": [
      "1\n",
      "2\n",
      "3\n",
      "5\n",
      "8\n",
      "13\n",
      "21\n",
      "34\n",
      "55\n",
      "89\n",
      "144\n",
      "233\n",
      "377\n",
      "610\n",
      "987\n",
      "1597\n",
      "2584\n",
      "4181\n",
      "6765\n",
      "10946\n"
     ]
    },
    {
     "name": "stderr",
     "output_type": "stream",
     "text": [
      "C:\\Users\\Martin\\AppData\\Local\\Continuum\\anaconda3\\lib\\site-packages\\ipykernel\\__main__.py:8: DeprecationWarning: generator 'genFib' raised StopIteration\n"
     ]
    }
   ],
   "source": [
    "for i in genFib():\n",
    "    print(i)"
   ]
  },
  {
   "cell_type": "code",
   "execution_count": 26,
   "metadata": {},
   "outputs": [],
   "source": [
    "# WORKS but optimally you don't even want to keep the fib_prod in memory (just replace it with first_fib*second_fib)\n",
    "def productFib(prod):\n",
    "    first_fib = 0\n",
    "    second_fib = 1\n",
    "    fib_prod = 0\n",
    "    \n",
    "    while fib_prod < prod:\n",
    "        (first_fib,second_fib) = (second_fib,first_fib + second_fib)\n",
    "        fib_prod = first_fib*second_fib\n",
    "    \n",
    "    # your code\n",
    "    return (first_fib,second_fib,fib_prod == prod)"
   ]
  },
  {
   "cell_type": "code",
   "execution_count": 25,
   "metadata": {},
   "outputs": [
    {
     "data": {
      "text/plain": [
       "(89, 144, False)"
      ]
     },
     "execution_count": 25,
     "metadata": {},
     "output_type": "execute_result"
    }
   ],
   "source": [
    "productFib(5895)"
   ]
  }
 ],
 "metadata": {
  "kernelspec": {
   "display_name": "Python [conda env:anaconda3]",
   "language": "python",
   "name": "conda-env-anaconda3-py"
  }
 },
 "nbformat": 4,
 "nbformat_minor": 2
}
