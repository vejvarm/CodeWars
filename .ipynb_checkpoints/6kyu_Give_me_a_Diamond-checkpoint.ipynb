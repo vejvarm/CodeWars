{
 "cells": [
  {
   "cell_type": "markdown",
   "metadata": {},
   "source": [
    "## Working solution but doesn't pass because of spaces at the end of rows\n",
    "from my perspective this is better than not having the spaces there (keeps symmetry)"
   ]
  },
  {
   "cell_type": "code",
   "execution_count": 43,
   "metadata": {},
   "outputs": [],
   "source": [
    "def diamond(n):\n",
    "    # Make some diamonds!\n",
    "    if (n % 2) and (n > 0):\n",
    "        output = \"\"\n",
    "        for i in range(1,n+1,2):\n",
    "            output += \"{0:^{1}s}\\n\".format('*'*i,n) # string of length n with i+1 stars in the middle\n",
    "        return output[:-n-2]+output[::-1]\n",
    "    else:\n",
    "        return None"
   ]
  },
  {
   "cell_type": "code",
   "execution_count": 44,
   "metadata": {},
   "outputs": [
    {
     "name": "stdout",
     "output_type": "stream",
     "text": [
      "  *  \n",
      " *** \n",
      "*****\n",
      " *** \n",
      "  *  \n"
     ]
    }
   ],
   "source": [
    "print(diamond(5))"
   ]
  },
  {
   "cell_type": "markdown",
   "metadata": {},
   "source": [
    "## Working solution"
   ]
  },
  {
   "cell_type": "code",
   "execution_count": 85,
   "metadata": {},
   "outputs": [],
   "source": [
    "def diamond(n):\n",
    "    if (n % 2) and (n > 0):\n",
    "        output = \"\"\n",
    "        num_spaces = (i for j in (range(n//2,0,-1),range(0,n//2+1)) for i in j)\n",
    "        for x in num_spaces:\n",
    "            output += \"{0:>{1}s}\\n\".format('*'*(n-2*x),x+(n-2*x))\n",
    "        return output\n",
    "    else:\n",
    "        return None"
   ]
  },
  {
   "cell_type": "code",
   "execution_count": 90,
   "metadata": {},
   "outputs": [
    {
     "name": "stdout",
     "output_type": "stream",
     "text": [
      "            *\n",
      "           ***\n",
      "          *****\n",
      "         *******\n",
      "        *********\n",
      "       ***********\n",
      "      *************\n",
      "     ***************\n",
      "    *****************\n",
      "   *******************\n",
      "  *********************\n",
      " ***********************\n",
      "*************************\n",
      " ***********************\n",
      "  *********************\n",
      "   *******************\n",
      "    *****************\n",
      "     ***************\n",
      "      *************\n",
      "       ***********\n",
      "        *********\n",
      "         *******\n",
      "          *****\n",
      "           ***\n",
      "            *\n",
      "\n"
     ]
    }
   ],
   "source": [
    "print(diamond(25))"
   ]
  },
  {
   "cell_type": "code",
   "execution_count": 6,
   "metadata": {},
   "outputs": [
    {
     "name": "stdout",
     "output_type": "stream",
     "text": [
      "slice(-1, 96, -1)\n"
     ]
    }
   ],
   "source": [
    "test_string = \"\".join(str(i) for i in range(100))\n",
    "test_slice = slice(-1,len(test_string)//2+1,-1)\n",
    "\n",
    "print(test_string[test_slice])"
   ]
  },
  {
   "cell_type": "code",
   "execution_count": 80,
   "metadata": {},
   "outputs": [
    {
     "name": "stdout",
     "output_type": "stream",
     "text": [
      "[1, 3, 5, 3, 1]\n",
      "[1, 3, 5, 3, 1]\n"
     ]
    }
   ],
   "source": [
    "n = 5\n",
    "print(list(range(1,n+1,2)) + list(range(n-2,0,-2)))\n",
    "\n",
    "# or using list comprehension for creating a generator\n",
    "gen = (i for j in (range(1,n+1,2), range(n-2,0,-2)) for i in j)\n",
    "print(list(gen))"
   ]
  },
  {
   "cell_type": "code",
   "execution_count": 82,
   "metadata": {},
   "outputs": [
    {
     "name": "stdout",
     "output_type": "stream",
     "text": [
      "[2, 1, 0, 1, 2]\n"
     ]
    }
   ],
   "source": [
    "nsp = (i for j in (range(n//2,0,-1),range(0,n//2+1)) for i in j)\n",
    "print(list(nsp))"
   ]
  }
 ],
 "metadata": {
  "kernelspec": {
   "display_name": "Python [conda env:anaconda3]",
   "language": "python",
   "name": "conda-env-anaconda3-py"
  },
  "language_info": {
   "codemirror_mode": {
    "name": "ipython",
    "version": 3
   },
   "file_extension": ".py",
   "mimetype": "text/x-python",
   "name": "python",
   "nbconvert_exporter": "python",
   "pygments_lexer": "ipython3",
   "version": "3.6.5"
  }
 },
 "nbformat": 4,
 "nbformat_minor": 2
}
