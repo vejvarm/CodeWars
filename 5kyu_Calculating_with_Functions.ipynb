{
 "cells": [
  {
   "cell_type": "markdown",
   "metadata": {},
   "source": [
    "This time we want to write calculations using functions and get the results. Let's have a look at some examples:\n",
    "\n",
    "JavaScript:\n",
    "\n",
    "seven(times(five())); // must return 35\n",
    "four(plus(nine())); // must return 13\n",
    "eight(minus(three())); // must return 5\n",
    "six(dividedBy(two())); // must return 3\n",
    "\n",
    "Ruby:\n",
    "\n",
    "seven(times(five)) # must return 35\n",
    "four(plus(nine)) # must return 13\n",
    "eight(minus(three)) # must return 5\n",
    "six(divided_by(two)) # must return 3\n",
    "\n",
    "Requirements:\n",
    "\n",
    "    There must be a function for each number from 0 (\"zero\") to 9 (\"nine\")\n",
    "    There must be a function for each of the following mathematical operations: plus, minus, times, dividedBy (divided_by in Ruby)\n",
    "    Each calculation consist of exactly one operation and two numbers\n",
    "    The most outer function represents the left operand, the most inner function represents the right operand\n",
    "    Divison should be integer division, e.g eight(dividedBy(three()))/eight(divided_by(three)) should return 2, not 2.666666..."
   ]
  },
  {
   "cell_type": "markdown",
   "metadata": {},
   "source": [
    "## Working solution using eval()"
   ]
  },
  {
   "cell_type": "code",
   "execution_count": null,
   "metadata": {},
   "outputs": [],
   "source": [
    "def zero(*args): return eval('0'+args[0]) if len(args) > 0 else '0' \n",
    "def one(*args): return eval('1'+args[0]) if len(args) > 0 else '1' \n",
    "def two(*args): return eval('2'+args[0]) if len(args) > 0 else '2' \n",
    "def three(*args): return eval('3'+args[0]) if len(args) > 0 else '3' \n",
    "def four(*args): return eval('4'+args[0]) if len(args) > 0 else '4' \n",
    "def five(*args): return eval('5'+args[0]) if len(args) > 0 else '5' \n",
    "def six(*args): return eval('6'+args[0]) if len(args) > 0 else '6' \n",
    "def seven(*args): return eval('7'+args[0]) if len(args) > 0 else '7' \n",
    "def eight(*args): return eval('8'+args[0]) if len(args) > 0 else '8' \n",
    "def nine(*args): return eval('9'+args[0]) if len(args) > 0 else '9' \n",
    "\n",
    "def plus(right_op): return '+{0:s}'.format(right_op)\n",
    "def minus(right_op): return '-{0:s}'.format(right_op)\n",
    "def times(right_op): return '*{0:s}'.format(right_op)\n",
    "def divided_by(right_op): return '//{0:s}'.format(right_op)"
   ]
  },
  {
   "cell_type": "markdown",
   "metadata": {},
   "source": [
    "### Better:"
   ]
  },
  {
   "cell_type": "code",
   "execution_count": 3,
   "metadata": {},
   "outputs": [],
   "source": [
    "def zero(fun=None): return eval('0'+fun) if fun else '0' \n",
    "def one(fun=None): return eval('1'+fun) if fun else '1' \n",
    "def two(fun=None): return eval('2'+fun) if fun else '2' \n",
    "def three(fun=None): return eval('3'+fun) if fun else '3' \n",
    "def four(fun=None): return eval('4'+fun) if fun else '4' \n",
    "def five(fun=None): return eval('5'+fun) if fun else '5' \n",
    "def six(fun=None): return eval('6'+fun) if fun else '6' \n",
    "def seven(fun=None): return eval('7'+fun) if fun else '7' \n",
    "def eight(fun=None): return eval('8'+fun) if fun else '8' \n",
    "def nine(fun=None): return eval('9'+fun) if fun else '9' \n",
    "\n",
    "def plus(right_op): return '+{0:s}'.format(right_op)\n",
    "def minus(right_op): return '-{0:s}'.format(right_op)\n",
    "def times(right_op): return '*{0:s}'.format(right_op)\n",
    "def divided_by(right_op): return '//{0:s}'.format(right_op)"
   ]
  },
  {
   "cell_type": "code",
   "execution_count": 4,
   "metadata": {},
   "outputs": [
    {
     "name": "stdout",
     "output_type": "stream",
     "text": [
      "2\n",
      "36\n"
     ]
    }
   ],
   "source": [
    "print(one(plus(one())))\n",
    "print(four(times(nine())))"
   ]
  },
  {
   "cell_type": "markdown",
   "metadata": {},
   "source": [
    "## Solution by Xueyimei using lambda functions"
   ]
  },
  {
   "cell_type": "code",
   "execution_count": null,
   "metadata": {},
   "outputs": [],
   "source": [
    "def zero(f = None): return 0 if not f else f(0)\n",
    "def one(f = None): return 1 if not f else f(1)\n",
    "def two(f = None): return 2 if not f else f(2)\n",
    "def three(f = None): return 3 if not f else f(3)\n",
    "def four(f = None): return 4 if not f else f(4)\n",
    "def five(f = None): return 5 if not f else f(5)\n",
    "def six(f = None): return 6 if not f else f(6)\n",
    "def seven(f = None): return 7 if not f else f(7)\n",
    "def eight(f = None): return 8 if not f else f(8)\n",
    "def nine(f = None): return 9 if not f else f(9)\n",
    "\n",
    "def plus(y): return lambda x: x+y\n",
    "def minus(y): return lambda x: x-y\n",
    "def times(y): return lambda  x: x*y\n",
    "def divided_by(y): return lambda  x: x/y"
   ]
  }
 ],
 "metadata": {
  "kernelspec": {
   "display_name": "Python [conda env:anaconda3]",
   "language": "python",
   "name": "conda-env-anaconda3-py"
  },
  "language_info": {
   "codemirror_mode": {
    "name": "ipython",
    "version": 3
   },
   "file_extension": ".py",
   "mimetype": "text/x-python",
   "name": "python",
   "nbconvert_exporter": "python",
   "pygments_lexer": "ipython3",
   "version": "3.6.5"
  }
 },
 "nbformat": 4,
 "nbformat_minor": 2
}
