{
 "cells": [
  {
   "cell_type": "markdown",
   "metadata": {},
   "source": [
    "Given a 2D array and a number of generations, compute n timesteps of Conway's Game of Life.\n",
    "\n",
    "The rules of the game are:\n",
    "\n",
    "    Any live cell with fewer than two live neighbours dies, as if caused by underpopulation.\n",
    "    Any live cell with more than three live neighbours dies, as if by overcrowding.\n",
    "    Any live cell with two or three live neighbours lives on to the next generation.\n",
    "    Any dead cell with exactly three live neighbours becomes a live cell.\n",
    "\n",
    "Each cell's neighborhood is the 8 cells immediately around it (i.e. Moore Neighborhood). The universe is infinite in both the x and y dimensions and all cells are initially dead - except for those specified in the arguments. The return value should be a 2d array cropped around all of the living cells. (If there are no living cells, then return [[]].)\n",
    "\n",
    "For illustration purposes, 0 and 1 will be represented as ░░ and ▓▓ blocks respectively (PHP, C: plain black and white squares). You can take advantage of the htmlize function to get a text representation of the universe, e.g.:\n",
    "\n",
    "print htmlize(cells)\n",
    "\n",
    "trace (htmlize cells)"
   ]
  },
  {
   "cell_type": "code",
   "execution_count": 1,
   "metadata": {},
   "outputs": [
    {
     "name": "stdout",
     "output_type": "stream",
     "text": [
      "░ b'\\xe2\\x96\\x93'\n"
     ]
    }
   ],
   "source": [
    "# live cell with 2 or 3 neighbours == alive else dead\n",
    "# dead cell with 3 neighbours == alive else dead\n",
    "# has to be unlimited (check for neighbours even out of bounds of the original array) !!!\n",
    "\n",
    "print('\\u2591','\\u2593'.encode('utf8'))"
   ]
  },
  {
   "cell_type": "code",
   "execution_count": 2,
   "metadata": {},
   "outputs": [],
   "source": [
    "import numpy as np\n",
    "from IPython.display import clear_output\n",
    "import time\n",
    "\n",
    "def get_generation(cells, generations):\n",
    "    \n",
    "    cells = np.array(cells,dtype=bool)\n",
    "    generation = 1\n",
    "    \n",
    "    while generation <= generations:\n",
    "        generation += 1\n",
    "        cells = np.pad(cells,1,'constant',constant_values=False)\n",
    "        cell_info = get_neighbours(cells)\n",
    "\n",
    "        numrows, numcols = np.shape(cells)\n",
    "        for i in range(numrows):\n",
    "            for j in range(numcols):\n",
    "                # if cell has 3 neighbours --> alive\n",
    "                # elif cell alive and has 2 neighbours --> alive\n",
    "                # else cell --> dead\n",
    "                if cell_info[(i,j)][1] == 3:\n",
    "                    cells[i,j] = True\n",
    "                elif cell_info[(i,j)][0] and cell_info[(i,j)][1] == 2:\n",
    "                    cells[i,j] = True\n",
    "                else:\n",
    "                    cells[i,j] = False\n",
    "                \n",
    "        # crop dead borders\n",
    "        cells = crop_borders(cells)\n",
    "                     \n",
    "        clear_output(wait=True)\n",
    "        time.sleep(0.05)\n",
    "        print(htmlize(cells.tolist()))\n",
    "    \n",
    "    return htmlize(cells.tolist())\n",
    "\n",
    "def get_neighbours(cells):\n",
    "    '''\n",
    "    createst a dictionary of cell states and number of their neighbours with coordinates as keys\n",
    "    :cells: a 2d numpy array of boolean dtype\n",
    "    :return: dictionary {(x,y) : (state, sum_live_neighbours)}\n",
    "    '''\n",
    "    \n",
    "    numrows, numcols = np.shape(cells)\n",
    "    \n",
    "    # a generator of all the neighbourhoods in the array\n",
    "    neighbourhoods = (cells[max(i-1,0):i+2,max(j-1,0):j+2] for i in range(numrows) for j in range(numcols))\n",
    "    \n",
    "    # fill a dictionary with cell informarion:\n",
    "    cell_info = {(i,j) : (cells[i,j], np.sum(next(neighbourhoods))-1 if cells[i,j] else np.sum(next(neighbourhoods)))\n",
    "                    for i in range(numrows)\n",
    "                    for j in range(numcols)}\n",
    "    \n",
    "    return cell_info\n",
    "\n",
    "def crop_borders(cells):\n",
    "    '''\n",
    "    crop the array borders if all cells are dead\n",
    "    '''\n",
    "    \n",
    "    numrows, numcols = np.shape(cells)\n",
    "    \n",
    "    live_cells = np.argwhere(cells)  # find idices of all live (True) cells\n",
    "    \n",
    "    # crop array\n",
    "    top, left = live_cells.min(axis=0)      # find top and left border to crop\n",
    "    bottom, right = live_cells.max(axis=0)  # find bottom and right border to crop\n",
    "    cells = cells[top:bottom + 1,left:right + 1]\n",
    "    \n",
    "    return cells\n",
    "    \n",
    "def htmlize(array):\n",
    "    s = []\n",
    "    for row in array:\n",
    "        for cell in row:\n",
    "            s.append('▓▓' if cell else '░░')\n",
    "        s.append('\\n')\n",
    "    return ''.join(s)"
   ]
  },
  {
   "cell_type": "code",
   "execution_count": 13,
   "metadata": {},
   "outputs": [],
   "source": [
    "start = np.random.randint(0,2,(np.random.randint(3,10),np.random.randint(3,10)))"
   ]
  },
  {
   "cell_type": "raw",
   "metadata": {},
   "source": [
    "# for saving good starting arrays\n",
    "with open('start.npy', 'wb') as f:\n",
    "    np.save(f,start)"
   ]
  },
  {
   "cell_type": "raw",
   "metadata": {},
   "source": [
    "# for loading starting arrays from .npy files\n",
    "with open('start.npy', 'rb') as f:\n",
    "    start_loaded = np.load(f)\n",
    "\n",
    "print(start_loaded)"
   ]
  },
  {
   "cell_type": "code",
   "execution_count": 39,
   "metadata": {
    "scrolled": true
   },
   "outputs": [
    {
     "ename": "KeyboardInterrupt",
     "evalue": "",
     "output_type": "error",
     "traceback": [
      "\u001b[1;31m---------------------------------------------------------------------------\u001b[0m",
      "\u001b[1;31mKeyboardInterrupt\u001b[0m                         Traceback (most recent call last)",
      "\u001b[1;32m<ipython-input-39-304558fabf13>\u001b[0m in \u001b[0;36m<module>\u001b[1;34m()\u001b[0m\n\u001b[1;32m----> 1\u001b[1;33m \u001b[0marray\u001b[0m \u001b[1;33m=\u001b[0m \u001b[0mget_generation\u001b[0m\u001b[1;33m(\u001b[0m\u001b[0mstart\u001b[0m\u001b[1;33m,\u001b[0m\u001b[1;36m500\u001b[0m\u001b[1;33m)\u001b[0m\u001b[1;33m\u001b[0m\u001b[0m\n\u001b[0m\u001b[0;32m      2\u001b[0m \u001b[0mprint\u001b[0m\u001b[1;33m(\u001b[0m\u001b[0marray\u001b[0m\u001b[1;33m)\u001b[0m\u001b[1;33m\u001b[0m\u001b[0m\n",
      "\u001b[1;32m<ipython-input-2-79dc3dbf0722>\u001b[0m in \u001b[0;36mget_generation\u001b[1;34m(cells, generations)\u001b[0m\n\u001b[0;32m     30\u001b[0m \u001b[1;33m\u001b[0m\u001b[0m\n\u001b[0;32m     31\u001b[0m         \u001b[0mclear_output\u001b[0m\u001b[1;33m(\u001b[0m\u001b[0mwait\u001b[0m\u001b[1;33m=\u001b[0m\u001b[1;32mTrue\u001b[0m\u001b[1;33m)\u001b[0m\u001b[1;33m\u001b[0m\u001b[0m\n\u001b[1;32m---> 32\u001b[1;33m         \u001b[0mtime\u001b[0m\u001b[1;33m.\u001b[0m\u001b[0msleep\u001b[0m\u001b[1;33m(\u001b[0m\u001b[1;36m0.05\u001b[0m\u001b[1;33m)\u001b[0m\u001b[1;33m\u001b[0m\u001b[0m\n\u001b[0m\u001b[0;32m     33\u001b[0m         \u001b[0mprint\u001b[0m\u001b[1;33m(\u001b[0m\u001b[0mhtmlize\u001b[0m\u001b[1;33m(\u001b[0m\u001b[0mcells\u001b[0m\u001b[1;33m.\u001b[0m\u001b[0mtolist\u001b[0m\u001b[1;33m(\u001b[0m\u001b[1;33m)\u001b[0m\u001b[1;33m)\u001b[0m\u001b[1;33m)\u001b[0m\u001b[1;33m\u001b[0m\u001b[0m\n\u001b[0;32m     34\u001b[0m \u001b[1;33m\u001b[0m\u001b[0m\n",
      "\u001b[1;31mKeyboardInterrupt\u001b[0m: "
     ]
    }
   ],
   "source": [
    "array = get_generation(start,500)\n",
    "print(array)"
   ]
  },
  {
   "cell_type": "code",
   "execution_count": null,
   "metadata": {},
   "outputs": [],
   "source": [
    "coord_list = [(1,2),(3,1),(2,3)]\n",
    "\n",
    "print(coord_list)"
   ]
  },
  {
   "cell_type": "code",
   "execution_count": null,
   "metadata": {},
   "outputs": [],
   "source": [
    "while True:\n",
    "    try:\n",
    "       print(next(neighbours))\n",
    "    except:\n",
    "        print('end')\n",
    "        break"
   ]
  },
  {
   "cell_type": "code",
   "execution_count": null,
   "metadata": {},
   "outputs": [],
   "source": []
  }
 ],
 "metadata": {
  "kernelspec": {
   "display_name": "Python [conda env:anaconda3]",
   "language": "python",
   "name": "conda-env-anaconda3-py"
  },
  "language_info": {
   "codemirror_mode": {
    "name": "ipython",
    "version": 3
   },
   "file_extension": ".py",
   "mimetype": "text/x-python",
   "name": "python",
   "nbconvert_exporter": "python",
   "pygments_lexer": "ipython3",
   "version": "3.6.5"
  }
 },
 "nbformat": 4,
 "nbformat_minor": 2
}
