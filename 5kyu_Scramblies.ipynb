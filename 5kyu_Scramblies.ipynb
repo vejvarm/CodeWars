{
 "cells": [
  {
   "cell_type": "markdown",
   "metadata": {},
   "source": [
    "## Using sorted list (works but slow)"
   ]
  },
  {
   "cell_type": "code",
   "execution_count": 1,
   "metadata": {},
   "outputs": [],
   "source": [
    "def scramble(s1, s2):\n",
    "\n",
    "    if len(s1) < len(s2):\n",
    "        return False\n",
    "    \n",
    "    s1 = sorted(s1)\n",
    "    \n",
    "    for char in s2:\n",
    "        try:\n",
    "            s1.pop(s1.index(char)) # if char in s2 is found in s1, pop it from s1\n",
    "        except ValueError:\n",
    "            return False\n",
    "        \n",
    "    return True"
   ]
  },
  {
   "cell_type": "code",
   "execution_count": 2,
   "metadata": {},
   "outputs": [
    {
     "data": {
      "text/plain": [
       "True"
      ]
     },
     "execution_count": 2,
     "metadata": {},
     "output_type": "execute_result"
    }
   ],
   "source": [
    "scramble('cedewaraaossoqqyt', 'codewars')"
   ]
  },
  {
   "cell_type": "markdown",
   "metadata": {},
   "source": [
    "## Using dictionary Counter from collections (faster but still not enough)"
   ]
  },
  {
   "cell_type": "code",
   "execution_count": 3,
   "metadata": {},
   "outputs": [],
   "source": [
    "from collections import Counter\n",
    "\n",
    "def scrambleCounter(s1, s2):\n",
    "\n",
    "    if len(s1) < len(s2):\n",
    "        return False\n",
    "    \n",
    "    s1_counter = Counter(s1)\n",
    "    \n",
    "    for char in s2:\n",
    "        try:\n",
    "            if s1_counter[char] > 0:\n",
    "                s1_counter[char] -= 1\n",
    "            else:\n",
    "                return False\n",
    "        except KeyError:\n",
    "            return False\n",
    "        \n",
    "    return True"
   ]
  },
  {
   "cell_type": "code",
   "execution_count": 4,
   "metadata": {},
   "outputs": [
    {
     "data": {
      "text/plain": [
       "True"
      ]
     },
     "execution_count": 4,
     "metadata": {},
     "output_type": "execute_result"
    }
   ],
   "source": [
    "scrambleCounter('cedewaraaossoqqyt', 'codewars')"
   ]
  },
  {
   "cell_type": "markdown",
   "metadata": {},
   "source": [
    "## Creating our own dictionary counter (even faster and no imports)"
   ]
  },
  {
   "cell_type": "code",
   "execution_count": 5,
   "metadata": {},
   "outputs": [],
   "source": [
    "def scrambleDict(s1, s2):\n",
    "\n",
    "    if len(s1) < len(s2):\n",
    "        return False\n",
    "    \n",
    "    s1_counter = { x: s1.count(x) for x in set(s1) }\n",
    "    \n",
    "    for char in s2:\n",
    "        try:\n",
    "            if s1_counter[char] > 0:\n",
    "                s1_counter[char] -= 1\n",
    "            else:\n",
    "                return False\n",
    "        except KeyError:\n",
    "            return False\n",
    "        \n",
    "    return True"
   ]
  },
  {
   "cell_type": "markdown",
   "metadata": {},
   "source": [
    "## Clever and fastest solution from 00kevn, lixiang"
   ]
  },
  {
   "cell_type": "code",
   "execution_count": 9,
   "metadata": {},
   "outputs": [],
   "source": [
    "from collections import Counter\n",
    "def scrambleClever(s1,s2):\n",
    "    # Counter basically creates a dictionary of counts and letters\n",
    "    # Using set subtraction, we know that if anything is left over,\n",
    "    # something exists in s2 that doesn't exist in s1\n",
    "    return not(Counter(s2) - Counter(s1))"
   ]
  },
  {
   "cell_type": "code",
   "execution_count": 10,
   "metadata": {},
   "outputs": [],
   "source": [
    "from timeit import timeit\n",
    "from random import choices\n",
    "import string\n",
    "\n",
    "def wrapper(f,s1,s2):\n",
    "    def inner():\n",
    "              return f(s1,s2)\n",
    "    return inner\n",
    "\n",
    "N = 10000\n",
    "s1 = ''.join(choices(string.ascii_uppercase + string.digits, k=N))\n",
    "s2 = ''.join(choices(string.ascii_uppercase + string.digits, k=N))\n",
    "\n",
    "wpList = wrapper(scramble,s1,s2)\n",
    "wpCounter = wrapper(scrambleCounter,s1,s2)\n",
    "wpDict = wrapper(scrambleDict,s1,s2)\n",
    "wpClever = wrapper(scrambleClever,s1,s2)"
   ]
  },
  {
   "cell_type": "code",
   "execution_count": 14,
   "metadata": {},
   "outputs": [
    {
     "name": "stdout",
     "output_type": "stream",
     "text": [
      "list: 0.40678765236407344 s\n",
      "counter: 0.0035291147960947455 s\n",
      "dict: 0.001601460526842402 s\n",
      "clever: 0.0008640766391749821 s\n"
     ]
    }
   ],
   "source": [
    "print(\"list: \" + str(timeit(wpList,number=1)) + \" s\")\n",
    "print(\"counter: \" + str(timeit(wpCounter,number=1)) + \" s\")\n",
    "print(\"dict: \" + str(timeit(wpDict,number=1)) + \" s\")\n",
    "print(\"clever: \" + str(timeit(wpClever,number=1)) + \" s\")"
   ]
  }
 ],
 "metadata": {
  "kernelspec": {
   "display_name": "Python [conda env:anaconda3]",
   "language": "python",
   "name": "conda-env-anaconda3-py"
  },
  "language_info": {
   "codemirror_mode": {
    "name": "ipython",
    "version": 3
   },
   "file_extension": ".py",
   "mimetype": "text/x-python",
   "name": "python",
   "nbconvert_exporter": "python",
   "pygments_lexer": "ipython3",
   "version": "3.6.5"
  }
 },
 "nbformat": 4,
 "nbformat_minor": 2
}
